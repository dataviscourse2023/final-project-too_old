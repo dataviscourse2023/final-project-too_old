{
 "cells": [
  {
   "cell_type": "code",
   "execution_count": 61,
   "metadata": {},
   "outputs": [],
   "source": [
    "import pandas as pd\n",
    "import matplotlib.pyplot as plt\n",
    "import numpy as np"
   ]
  },
  {
   "cell_type": "code",
   "execution_count": 62,
   "metadata": {},
   "outputs": [],
   "source": [
    "#col_names = [\"time ID\", \"x[pc]\", \"y[pc]\", \"z[pc]\", \"mass (MSun)\", \"logT(K)\" ]\n",
    "data1 = np.loadtxt(\"/Users/rebeccacorley/Desktop/VIZ-CS6630/Project/star_data_example.txt\")\n",
    "# sep='\\t', skiprows=10, names=col_names"
   ]
  },
  {
   "cell_type": "code",
   "execution_count": 63,
   "metadata": {},
   "outputs": [
    {
     "name": "stdout",
     "output_type": "stream",
     "text": [
      "[[ 0.000000e+00  3.300000e+01 -1.045800e-01 ... -2.880000e-01\n",
      "   0.000000e+00  1.000000e+00]\n",
      " [ 0.000000e+00  3.400000e+01 -5.776800e-01 ... -4.360000e-01\n",
      "   0.000000e+00  1.000000e+00]\n",
      " [ 0.000000e+00  5.500000e+01 -6.210200e-01 ... -3.930000e-01\n",
      "   0.000000e+00  1.000000e+00]\n",
      " ...\n",
      " [ 5.005430e+03  1.097980e+05 -1.188062e+01 ... -6.250000e-01\n",
      "   1.000000e+00  1.000000e+00]\n",
      " [ 5.005430e+03  1.055560e+05  4.630000e-01 ... -3.180000e-01\n",
      "   1.000000e+00  1.000000e+00]\n",
      " [ 5.005430e+03  1.000780e+05  3.795720e+00 ... -1.803000e+00\n",
      "   1.000000e+00  2.000000e+00]]\n"
     ]
    }
   ],
   "source": [
    "print(data1)"
   ]
  },
  {
   "cell_type": "code",
   "execution_count": 54,
   "metadata": {},
   "outputs": [
    {
     "data": {
      "text/plain": [
       "'plt.scatter(data1[\\'LOG_TE\\'], data1[\\'LOG_L\\'], marker=\"*\")\\nplt.xlabel(\"Log Te\")\\nplt.ylabel(\"log L\")\\nplt.xlim(6, 3)\\nplt.show()'"
      ]
     },
     "execution_count": 54,
     "metadata": {},
     "output_type": "execute_result"
    }
   ],
   "source": [
    "'''plt.scatter(data1['LOG_TE'], data1['LOG_L'], marker=\"*\")\n",
    "plt.xlabel(\"Log Te\")\n",
    "plt.ylabel(\"log L\")\n",
    "plt.xlim(6, 3)\n",
    "plt.show()'''"
   ]
  },
  {
   "cell_type": "code",
   "execution_count": 55,
   "metadata": {},
   "outputs": [
    {
     "data": {
      "text/plain": [
       "(491383, 1)"
      ]
     },
     "execution_count": 55,
     "metadata": {},
     "output_type": "execute_result"
    }
   ],
   "source": [
    "data1.shape"
   ]
  },
  {
   "cell_type": "code",
   "execution_count": null,
   "metadata": {},
   "outputs": [],
   "source": []
  }
 ],
 "metadata": {
  "kernelspec": {
   "display_name": "base",
   "language": "python",
   "name": "python3"
  },
  "language_info": {
   "codemirror_mode": {
    "name": "ipython",
    "version": 3
   },
   "file_extension": ".py",
   "mimetype": "text/x-python",
   "name": "python",
   "nbconvert_exporter": "python",
   "pygments_lexer": "ipython3",
   "version": "3.7.15"
  }
 },
 "nbformat": 4,
 "nbformat_minor": 2
}
